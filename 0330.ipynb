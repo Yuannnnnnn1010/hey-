{
  "nbformat": 4,
  "nbformat_minor": 0,
  "metadata": {
    "colab": {
      "name": "0330",
      "provenance": [],
      "collapsed_sections": [],
      "authorship_tag": "ABX9TyNazI032e/3IzKIsGOJmAVS",
      "include_colab_link": true
    },
    "kernelspec": {
      "name": "python3",
      "display_name": "Python 3"
    },
    "language_info": {
      "name": "python"
    }
  },
  "cells": [
    {
      "cell_type": "markdown",
      "metadata": {
        "id": "view-in-github",
        "colab_type": "text"
      },
      "source": [
        "<a href=\"https://colab.research.google.com/github/Yuannnnnnn1010/hey-/blob/main/0330.ipynb\" target=\"_parent\"><img src=\"https://colab.research.google.com/assets/colab-badge.svg\" alt=\"Open In Colab\"/></a>"
      ]
    },
    {
      "cell_type": "code",
      "execution_count": null,
      "metadata": {
        "colab": {
          "base_uri": "https://localhost:8080/"
        },
        "id": "paFH83pkHrbS",
        "outputId": "4266fd6b-976e-4fcb-c817-bc0622e9dcb3"
      },
      "outputs": [
        {
          "output_type": "execute_result",
          "data": {
            "text/plain": [
              "50"
            ]
          },
          "metadata": {},
          "execution_count": 3
        }
      ],
      "source": [
        "i = 10\n",
        "i *= 5\n",
        "i"
      ]
    },
    {
      "cell_type": "code",
      "source": [
        "print(1+2)"
      ],
      "metadata": {
        "colab": {
          "base_uri": "https://localhost:8080/"
        },
        "id": "CEcvT3o6Hwd0",
        "outputId": "0340066a-ddac-4ab5-a4d2-a8c0440a0bff"
      },
      "execution_count": null,
      "outputs": [
        {
          "output_type": "stream",
          "name": "stdout",
          "text": [
            "3\n"
          ]
        }
      ]
    },
    {
      "cell_type": "code",
      "source": [
        "print('1'+'2')"
      ],
      "metadata": {
        "colab": {
          "base_uri": "https://localhost:8080/"
        },
        "id": "Imf87Av_Hwgl",
        "outputId": "c8282cb0-a31c-4801-94bb-c25665fd0c93"
      },
      "execution_count": null,
      "outputs": [
        {
          "output_type": "stream",
          "name": "stdout",
          "text": [
            "12\n"
          ]
        }
      ]
    },
    {
      "cell_type": "code",
      "source": [
        "print('你'+'好'+'!')"
      ],
      "metadata": {
        "colab": {
          "base_uri": "https://localhost:8080/"
        },
        "id": "inuetuszHwi6",
        "outputId": "fa3848cf-50e6-4f23-8e58-5be5afaf3025"
      },
      "execution_count": null,
      "outputs": [
        {
          "output_type": "stream",
          "name": "stdout",
          "text": [
            "你好!\n"
          ]
        }
      ]
    },
    {
      "cell_type": "code",
      "source": [
        "deposit = int(input('請輸入本金存款金額:'))\n",
        "years = 1.02**6\n",
        "deposit *= years\n",
        "print('6年後存款為:',deposit)"
      ],
      "metadata": {
        "colab": {
          "base_uri": "https://localhost:8080/"
        },
        "id": "ynwX76EXHwlA",
        "outputId": "24c91c15-be27-4900-cce7-640cb007e223"
      },
      "execution_count": null,
      "outputs": [
        {
          "output_type": "stream",
          "name": "stdout",
          "text": [
            "請輸入本金存款金額:10000\n",
            "6年後存款為: 11261.62419264\n"
          ]
        }
      ]
    },
    {
      "cell_type": "code",
      "source": [
        "deposit = int(input('請輸入本金存款金額:'))\n",
        "years = 1.02**6\n",
        "deposit *= years\n",
        "print('6年後存款為:' + str(deposit))"
      ],
      "metadata": {
        "colab": {
          "base_uri": "https://localhost:8080/"
        },
        "outputId": "824986db-2d03-4584-87b4-83b7144ea1a3",
        "id": "rShSDVyrWwsF"
      },
      "execution_count": null,
      "outputs": [
        {
          "output_type": "stream",
          "name": "stdout",
          "text": [
            "請輸入本金存款金額:10000\n",
            "6年後存款為:11261.62419264\n"
          ]
        }
      ]
    },
    {
      "cell_type": "code",
      "source": [
        "pw = input('請輸入密碼')\n",
        "if(pw =='1234'):\n",
        "   print('歡迎光臨!')"
      ],
      "metadata": {
        "colab": {
          "base_uri": "https://localhost:8080/"
        },
        "id": "489zOT1RHwpP",
        "outputId": "c429146c-296b-4a5a-ab3d-b5e5807c4478"
      },
      "execution_count": null,
      "outputs": [
        {
          "output_type": "stream",
          "name": "stdout",
          "text": [
            "請輸入密碼1234\n",
            "歡迎光臨!\n"
          ]
        }
      ]
    },
    {
      "cell_type": "code",
      "source": [
        "rain = input(\"今天會下雨嗎?\")\n",
        "if(rain==\"Y\" or rain==\"y\"):\n",
        "   print(\"出門記得帶傘!\")"
      ],
      "metadata": {
        "colab": {
          "base_uri": "https://localhost:8080/"
        },
        "id": "znQ6lkA7HwsF",
        "outputId": "6acf9cf0-04d7-4d75-8ce7-e2ef1d5310b8"
      },
      "execution_count": null,
      "outputs": [
        {
          "output_type": "stream",
          "name": "stdout",
          "text": [
            "今天會下雨嗎?y\n",
            "出門記得帶傘!\n"
          ]
        }
      ]
    },
    {
      "cell_type": "code",
      "source": [
        "pw = input('請輸入密碼')\n",
        "if(pw =='1234'):\n",
        "   print('歡迎光臨!')\n",
        "else:\n",
        "   print('密碼錯誤!')"
      ],
      "metadata": {
        "colab": {
          "base_uri": "https://localhost:8080/"
        },
        "outputId": "2329c0f7-bc76-4ed8-e521-4535b455cc62",
        "id": "pDjCo9EjZx5y"
      },
      "execution_count": 28,
      "outputs": [
        {
          "output_type": "stream",
          "name": "stdout",
          "text": [
            "請輸入密碼11111\n",
            "密碼錯誤!\n"
          ]
        }
      ]
    },
    {
      "cell_type": "code",
      "source": [
        "rain = input(\"今天會下雨嗎?\")\n",
        "if(rain==\"Y\" or rain==\"y\"):\n",
        "   print(\"出門記得帶傘!\")\n",
        "else:\n",
        "   print(\"不用帶傘!\")"
      ],
      "metadata": {
        "colab": {
          "base_uri": "https://localhost:8080/"
        },
        "outputId": "6178cc14-b43e-4329-b929-d35517f78fc0",
        "id": "KAn5sNW4ddcv"
      },
      "execution_count": 29,
      "outputs": [
        {
          "output_type": "stream",
          "name": "stdout",
          "text": [
            "今天會下雨嗎?n\n",
            "不用帶傘!\n"
          ]
        }
      ]
    },
    {
      "cell_type": "code",
      "source": [
        "a=int(input('請輸入正整數:'))\n",
        "if((a%2)==0):\n",
        "   print(a,'為偶數!')\n",
        "else:\n",
        "   print(a,'為奇數!')"
      ],
      "metadata": {
        "colab": {
          "base_uri": "https://localhost:8080/"
        },
        "id": "98k7JFiPdvAX",
        "outputId": "c2c3a040-18ce-487c-d1de-b487131f6d30"
      },
      "execution_count": 30,
      "outputs": [
        {
          "output_type": "stream",
          "name": "stdout",
          "text": [
            "請輸入正整數:50\n",
            "50 為偶數!\n"
          ]
        }
      ]
    }
  ]
}