{
  "nbformat": 4,
  "nbformat_minor": 0,
  "metadata": {
    "colab": {
      "name": "0601.ipynb",
      "provenance": [],
      "authorship_tag": "ABX9TyMD5D3zDNQmi+eRxkZ5pRL1",
      "include_colab_link": true
    },
    "kernelspec": {
      "name": "python3",
      "display_name": "Python 3"
    },
    "language_info": {
      "name": "python"
    }
  },
  "cells": [
    {
      "cell_type": "markdown",
      "metadata": {
        "id": "view-in-github",
        "colab_type": "text"
      },
      "source": [
        "<a href=\"https://colab.research.google.com/github/Yuannnnnnn1010/hey-/blob/main/0601.ipynb\" target=\"_parent\"><img src=\"https://colab.research.google.com/assets/colab-badge.svg\" alt=\"Open In Colab\"/></a>"
      ]
    },
    {
      "cell_type": "code",
      "execution_count": null,
      "metadata": {
        "colab": {
          "base_uri": "https://localhost:8080/"
        },
        "id": "iDl4o1HsoI3B",
        "outputId": "9012b0f4-e1b6-4fcf-a4dc-707a299e8631"
      },
      "outputs": [
        {
          "output_type": "stream",
          "name": "stdout",
          "text": [
            "0601\n"
          ]
        }
      ],
      "source": [
        "print(\"0601\")"
      ]
    },
    {
      "cell_type": "code",
      "source": [
        "for i in range(2,10):\n",
        "    for j in range(1,10):\n",
        "        product = i * j\n",
        "        print(\"%d*%d=%2d \" % (i, j, product), end=\"\")\n",
        "    print()"
      ],
      "metadata": {
        "colab": {
          "base_uri": "https://localhost:8080/"
        },
        "id": "w7or9pFKoWE2",
        "outputId": "4042d0ab-de8b-4da5-afe4-9b1860477d40"
      },
      "execution_count": null,
      "outputs": [
        {
          "output_type": "stream",
          "name": "stdout",
          "text": [
            "2*1= 2 2*2= 4 2*3= 6 2*4= 8 2*5=10 2*6=12 2*7=14 2*8=16 2*9=18 \n",
            "3*1= 3 3*2= 6 3*3= 9 3*4=12 3*5=15 3*6=18 3*7=21 3*8=24 3*9=27 \n",
            "4*1= 4 4*2= 8 4*3=12 4*4=16 4*5=20 4*6=24 4*7=28 4*8=32 4*9=36 \n",
            "5*1= 5 5*2=10 5*3=15 5*4=20 5*5=25 5*6=30 5*7=35 5*8=40 5*9=45 \n",
            "6*1= 6 6*2=12 6*3=18 6*4=24 6*5=30 6*6=36 6*7=42 6*8=48 6*9=54 \n",
            "7*1= 7 7*2=14 7*3=21 7*4=28 7*5=35 7*6=42 7*7=49 7*8=56 7*9=63 \n",
            "8*1= 8 8*2=16 8*3=24 8*4=32 8*5=40 8*6=48 8*7=56 8*8=64 8*9=72 \n",
            "9*1= 9 9*2=18 9*3=27 9*4=36 9*5=45 9*6=54 9*7=63 9*8=72 9*9=81 \n"
          ]
        }
      ]
    },
    {
      "cell_type": "code",
      "source": [
        "a=int(input(\"請輸入a的值：\"))\n",
        "b=int(input(\"請輸入b的值：\"))\n",
        "\n",
        "maxno = a * b\n",
        "for i in range(1,maxno+1):\n",
        "    if(i % a == 0 and i % b ==0):\n",
        "       break\n",
        "print(\"%d和 %d的最小公倍數 = %d\" %(a,b,i))\n"
      ],
      "metadata": {
        "id": "plxbQNE2pddI",
        "colab": {
          "base_uri": "https://localhost:8080/"
        },
        "outputId": "e0e5e7cd-2a7f-468a-9454-9e30b3c3809f"
      },
      "execution_count": null,
      "outputs": [
        {
          "output_type": "stream",
          "name": "stdout",
          "text": [
            "請輸入a的值：5\n",
            "請輸入b的值：4\n",
            "5和 4的最小公倍數 = 20\n"
          ]
        }
      ]
    },
    {
      "cell_type": "code",
      "source": [
        "n =int(input(\"請輸入一個正整數：\"))\n",
        "for i in range(1,n+1):\n",
        "    if i % 5 == 0:\n",
        "       continue\n",
        "    print(i,end=\" \")"
      ],
      "metadata": {
        "colab": {
          "base_uri": "https://localhost:8080/"
        },
        "id": "imdYTWGspd0a",
        "outputId": "c659dc39-2df4-469d-ae0d-de9d5268800a"
      },
      "execution_count": null,
      "outputs": [
        {
          "output_type": "stream",
          "name": "stdout",
          "text": [
            "請輸入一個正整數：25\n",
            "1 2 3 4 6 7 8 9 11 12 13 14 16 17 18 19 21 22 23 24 "
          ]
        }
      ]
    },
    {
      "cell_type": "code",
      "source": [
        "total = n = 0\n",
        "while(n<10):\n",
        "  n += 1\n",
        "  total += n\n",
        "print(total)"
      ],
      "metadata": {
        "id": "OyIDblJEpeBk",
        "colab": {
          "base_uri": "https://localhost:8080/"
        },
        "outputId": "c0fff494-8d99-4a29-fa86-f1f1600af5b2"
      },
      "execution_count": null,
      "outputs": [
        {
          "output_type": "stream",
          "name": "stdout",
          "text": [
            "55\n"
          ]
        }
      ]
    },
    {
      "cell_type": "code",
      "source": [
        "total = n = 0\n",
        "while(n<=10):\n",
        "  total += n\n",
        "  n += 1\n",
        "print(total)\n"
      ],
      "metadata": {
        "id": "Bz2WzLxxpeYW",
        "colab": {
          "base_uri": "https://localhost:8080/"
        },
        "outputId": "1db0d928-fa02-4877-db1d-eda7e86cf735"
      },
      "execution_count": null,
      "outputs": [
        {
          "output_type": "stream",
          "name": "stdout",
          "text": [
            "55\n"
          ]
        }
      ]
    },
    {
      "cell_type": "code",
      "source": [
        "total = n = 0\n",
        "while n<= 10:\n",
        "  total += n\n",
        "  n += 1\n",
        "print(total)"
      ],
      "metadata": {
        "id": "yvmzwDmzpeM9",
        "colab": {
          "base_uri": "https://localhost:8080/"
        },
        "outputId": "1c098039-8aed-4346-fa52-b15c6a736e70"
      },
      "execution_count": null,
      "outputs": [
        {
          "output_type": "stream",
          "name": "stdout",
          "text": [
            "55\n"
          ]
        }
      ]
    },
    {
      "cell_type": "code",
      "source": [
        "total= n = 0\n",
        "while(n<= 10):\n",
        "  total += n\n",
        "print(total)"
      ],
      "metadata": {
        "id": "U8qhkQVQpegB",
        "colab": {
          "base_uri": "https://localhost:8080/",
          "height": 219
        },
        "outputId": "3d10015d-ea37-4069-e203-c6752b5f47ca"
      },
      "execution_count": null,
      "outputs": [
        {
          "output_type": "error",
          "ename": "KeyboardInterrupt",
          "evalue": "ignored",
          "traceback": [
            "\u001b[0;31m---------------------------------------------------------------------------\u001b[0m",
            "\u001b[0;31mKeyboardInterrupt\u001b[0m                         Traceback (most recent call last)",
            "\u001b[0;32m<ipython-input-10-4d6a92acb9a4>\u001b[0m in \u001b[0;36m<module>\u001b[0;34m()\u001b[0m\n\u001b[1;32m      1\u001b[0m \u001b[0mtotal\u001b[0m\u001b[0;34m=\u001b[0m \u001b[0mn\u001b[0m \u001b[0;34m=\u001b[0m \u001b[0;36m0\u001b[0m\u001b[0;34m\u001b[0m\u001b[0;34m\u001b[0m\u001b[0m\n\u001b[0;32m----> 2\u001b[0;31m \u001b[0;32mwhile\u001b[0m\u001b[0;34m(\u001b[0m\u001b[0mn\u001b[0m\u001b[0;34m<=\u001b[0m \u001b[0;36m10\u001b[0m\u001b[0;34m)\u001b[0m\u001b[0;34m:\u001b[0m\u001b[0;34m\u001b[0m\u001b[0;34m\u001b[0m\u001b[0m\n\u001b[0m\u001b[1;32m      3\u001b[0m   \u001b[0mtotal\u001b[0m \u001b[0;34m+=\u001b[0m \u001b[0mn\u001b[0m\u001b[0;34m\u001b[0m\u001b[0;34m\u001b[0m\u001b[0m\n\u001b[1;32m      4\u001b[0m \u001b[0mprint\u001b[0m\u001b[0;34m(\u001b[0m\u001b[0mtotal\u001b[0m\u001b[0;34m)\u001b[0m\u001b[0;34m\u001b[0m\u001b[0;34m\u001b[0m\u001b[0m\n",
            "\u001b[0;31mKeyboardInterrupt\u001b[0m: "
          ]
        }
      ]
    },
    {
      "cell_type": "code",
      "source": [
        "total = i = 1\n",
        "n = int(input(\"請輸入正整數n的值：\"))\n",
        "while i<=n:\n",
        "   total *= i\n",
        "   i+=1\n",
        "print(\"%d!=%d\" % (n,total))\n"
      ],
      "metadata": {
        "id": "ZfxzsQ4OpenB",
        "colab": {
          "base_uri": "https://localhost:8080/"
        },
        "outputId": "41fafc9b-4d12-40d7-e782-fdb19a9ce6b1"
      },
      "execution_count": null,
      "outputs": [
        {
          "output_type": "stream",
          "name": "stdout",
          "text": [
            "請輸入正整數n的值：100\n",
            "100!=93326215443944152681699238856266700490715968264381621468592963895217599993229915608941463976156518286253697920827223758251185210916864000000000000000000000000\n"
          ]
        }
      ]
    },
    {
      "cell_type": "code",
      "source": [
        "sum = 0\n",
        "for i in range(1,51):\n",
        "  if i % 2 == 0:\n",
        "     sum = sum+i\n",
        "  i += 1\n",
        "print(f\"0～50的奇數和結果為:{sum}\")\n",
        "\n",
        "sum = 0\n",
        "for i in range(1,51):\n",
        "  if i % 2 != 0:\n",
        "     sum = sum+i\n",
        "  i += 1\n",
        "print(f\"0～50的偶數和結果為:{sum}\")\n"
      ],
      "metadata": {
        "id": "0vt7PwI2pesz",
        "colab": {
          "base_uri": "https://localhost:8080/"
        },
        "outputId": "f3f38e72-10cd-41a7-bcd7-7b58cb86a9d7"
      },
      "execution_count": null,
      "outputs": [
        {
          "output_type": "stream",
          "name": "stdout",
          "text": [
            "0～50的奇數和結果為:650\n",
            "0～50的偶數和結果為:625\n"
          ]
        }
      ]
    },
    {
      "cell_type": "code",
      "source": [
        "i = int(input(\"請輸入正整數:\"))\n",
        "while i > 0:\n",
        "   j = 0\n",
        "   while j < i :\n",
        "     print(\"*\", end = \" \")\n",
        "     j += 1\n",
        "   print()\n",
        "   i -= 1\n"
      ],
      "metadata": {
        "id": "-Twp0oFUpexM",
        "colab": {
          "base_uri": "https://localhost:8080/"
        },
        "outputId": "284d47a2-b192-4027-a0e0-acecf3fc539e"
      },
      "execution_count": null,
      "outputs": [
        {
          "output_type": "stream",
          "name": "stdout",
          "text": [
            "請輸入正整數:7\n",
            "* * * * * * * \n",
            "* * * * * * \n",
            "* * * * * \n",
            "* * * * \n",
            "* * * \n",
            "* * \n",
            "* \n"
          ]
        }
      ]
    },
    {
      "cell_type": "code",
      "source": [
        "i = int(input(\"請輸入正整數:\"))\n",
        "while i > 0:\n",
        "   j = 0\n",
        "   while j < i :\n",
        "     print(\"*\", end = \" \")\n",
        "     j += 1\n",
        "   print()\n",
        "   i -= 1"
      ],
      "metadata": {
        "id": "4KcwhnXGpe0f",
        "colab": {
          "base_uri": "https://localhost:8080/"
        },
        "outputId": "24684840-6bc6-4732-edd6-0b5eeab09e7e"
      },
      "execution_count": null,
      "outputs": [
        {
          "output_type": "stream",
          "name": "stdout",
          "text": [
            "請輸入正整數:5\n",
            "* * * * * \n",
            "* * * * \n",
            "* * * \n",
            "* * \n",
            "* \n"
          ]
        }
      ]
    },
    {
      "cell_type": "code",
      "source": [
        "sum = 0\n",
        "for i in range(1,101):k\n",
        "\n",
        "  if i % 3 == 0 or i % 7 == 0:\n",
        "   sum += i\n",
        "print(\"數值1～100中,所有是3或7倍數的數之總和=\" +str(sum))\n"
      ],
      "metadata": {
        "id": "iiSCGQOWpe4C",
        "colab": {
          "base_uri": "https://localhost:8080/"
        },
        "outputId": "ecad9893-f63f-4751-d520-ff01e2c6d109"
      },
      "execution_count": null,
      "outputs": [
        {
          "output_type": "stream",
          "name": "stdout",
          "text": [
            "數值1～100中,所有是3或7倍數的數之總和=2208\n"
          ]
        }
      ]
    },
    {
      "cell_type": "code",
      "source": [
        "a=0\n",
        "a=int(input(\"請輸入正整數：\"))\n",
        "print(str(a)+\"的因數有\",end=\" \")\n",
        "for i in range(1,a+1):\n",
        "    if (a%i==0):\n",
        "      print(str(i),end=\" \")\n",
        "for i in range(2,a):\n",
        "    if(a>1 and a%i!=0):\n",
        "      print()\n",
        "      print(a,\"不是質數\")\n",
        "      break\n",
        "else:\n",
        "    print()\n",
        "    print(a,\"是質數\",end=\" \")"
      ],
      "metadata": {
        "id": "K_knCL0XAVEr",
        "colab": {
          "base_uri": "https://localhost:8080/"
        },
        "outputId": "a455c8d2-0cf4-4fea-d049-bfdb91ea371b"
      },
      "execution_count": 1,
      "outputs": [
        {
          "output_type": "stream",
          "name": "stdout",
          "text": [
            "請輸入正整數：12\n",
            "12的因數有 1 2 3 4 6 12 \n",
            "12 不是質數\n"
          ]
        }
      ]
    },
    {
      "cell_type": "code",
      "source": [
        "a=0\n",
        "a=int(input(\"請輸入正整數:\"))\n",
        "print(str(a)+\"的因數有\",end=\" \")\n",
        "for i in range(1,a+1):\n",
        "    if(a%i==0):\n",
        "      print(str(i),end=\" \")\n",
        "for i in range(2,a):\n",
        "    if(a>1 and a%i!=0):\n",
        "      print()\n",
        "      print(a,\"不是質數\")\n",
        "      break\n",
        "else:\n",
        "  print()\n",
        "  print(a,\"是質數\",end=\" \")\n"
      ],
      "metadata": {
        "id": "gZ1_a8uzp_6r",
        "colab": {
          "base_uri": "https://localhost:8080/"
        },
        "outputId": "623b3d72-535c-4312-90e4-9db2e84b4f9f"
      },
      "execution_count": 2,
      "outputs": [
        {
          "output_type": "stream",
          "name": "stdout",
          "text": [
            "請輸入正整數:11\n",
            "11的因數有 1 11 \n",
            "11 不是質數\n"
          ]
        }
      ]
    }
  ]
}