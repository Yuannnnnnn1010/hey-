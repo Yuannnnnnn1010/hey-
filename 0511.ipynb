{
  "nbformat": 4,
  "nbformat_minor": 0,
  "metadata": {
    "colab": {
      "name": "0511.ipynb",
      "provenance": [],
      "authorship_tag": "ABX9TyM1FfImTRwYhxMerV2rUZNq",
      "include_colab_link": true
    },
    "kernelspec": {
      "name": "python3",
      "display_name": "Python 3"
    },
    "language_info": {
      "name": "python"
    }
  },
  "cells": [
    {
      "cell_type": "markdown",
      "metadata": {
        "id": "view-in-github",
        "colab_type": "text"
      },
      "source": [
        "<a href=\"https://colab.research.google.com/github/Yuannnnnnn1010/hey-/blob/main/0511.ipynb\" target=\"_parent\"><img src=\"https://colab.research.google.com/assets/colab-badge.svg\" alt=\"Open In Colab\"/></a>"
      ]
    },
    {
      "cell_type": "code",
      "execution_count": null,
      "metadata": {
        "colab": {
          "base_uri": "https://localhost:8080/"
        },
        "id": "WpIFVfGbouuq",
        "outputId": "c8395731-e604-4653-fafa-1d91236f31a7"
      },
      "outputs": [
        {
          "output_type": "stream",
          "name": "stdout",
          "text": [
            "test\n"
          ]
        }
      ],
      "source": [
        "print(\"test\")"
      ]
    },
    {
      "cell_type": "code",
      "source": [
        "temp = float(input(\"請輸入你的體溫\"))\n",
        "if temp >= 37.5:\n",
        "   print(\"體溫過高!\")\n",
        "elif temp >= 37 and temp < 37.4:\n",
        "   print(\"體溫略高!\")\n",
        "elif temp >= 34 and temp < 36.9:\n",
        "   print(\"體溫正常!\")\n",
        "else:\n",
        "   print(\"體溫異常,請重新量測!\")\n"
      ],
      "metadata": {
        "colab": {
          "base_uri": "https://localhost:8080/"
        },
        "id": "7D_BwlN9pACx",
        "outputId": "e6ccb0e3-7206-4e6a-d7d2-1b1098c60427"
      },
      "execution_count": null,
      "outputs": [
        {
          "output_type": "stream",
          "name": "stdout",
          "text": [
            "請輸入你的體溫37.5\n",
            "體溫過高!\n"
          ]
        }
      ]
    },
    {
      "cell_type": "code",
      "source": [
        "money = int(input(\"請輸入購物金額:\"))\n",
        "if (money >= 10000):\n",
        "   if(money >= 100000):\n",
        "     print(\"八折\",money * 0.8, end = \"元\\n\")\n",
        "else:\n",
        "   print(\"沒打折\", money, end= \"元\\n\")"
      ],
      "metadata": {
        "colab": {
          "base_uri": "https://localhost:8080/"
        },
        "id": "v4_2YP05pAFx",
        "outputId": "165ccf9b-8a0c-4610-f707-13639c9266f8"
      },
      "execution_count": null,
      "outputs": [
        {
          "output_type": "stream",
          "name": "stdout",
          "text": [
            "請輸入購物金額:100000\n",
            "八折 80000.0元\n"
          ]
        }
      ]
    },
    {
      "cell_type": "code",
      "source": [
        "money = int(input(\"請輸入購物金額:\"))\n",
        "if (money >= 10000):\n",
        "   if(money >= 100000):\n",
        "     print(\"八折\",money * 0.8, end = \"元\\n\")\n",
        "   elif(money >= 50000):\n",
        "     print(\"八五折\",money * 0.85, end = \"元\\n\")\n",
        "   elif(money >= 30000):\n",
        "     print(\"九折\",money * 0.9, end = \"元\\n\")\n",
        "   else:\n",
        "     print(\"九五折\",money * 0.95, end = \"元\\n\")\n",
        "else:         \n",
        " print(\"沒打折\",money, end= \"元\\n\")"
      ],
      "metadata": {
        "colab": {
          "base_uri": "https://localhost:8080/"
        },
        "id": "oIAzPwJOuOmV",
        "outputId": "e40fbb20-24a0-406c-bfdb-d086e78242d0"
      },
      "execution_count": null,
      "outputs": [
        {
          "output_type": "stream",
          "name": "stdout",
          "text": [
            "請輸入購物金額:50000\n",
            "八五折 42500.0元\n"
          ]
        }
      ]
    },
    {
      "cell_type": "code",
      "source": [
        "season = int(input(\"請輸入月份:\"))\n",
        "if (season >= 1 and season <= 12):\n",
        "   if (season >= 3 and season <= 5):\n",
        "      print(season,\"月是春天\")\n",
        "   elif (season >= 6 and season <= 8):\n",
        "      print(season,\"月是夏天\")\n",
        "   elif (season >= 9 and season <= 11):\n",
        "      print(season,\"月是秋天\")\n",
        "   else:\n",
        "     print(season,\"月是冬天\")\n",
        "else:\n",
        "   print(\"月份不再範圍內!\")"
      ],
      "metadata": {
        "colab": {
          "base_uri": "https://localhost:8080/"
        },
        "id": "_-3gKnrwwTpm",
        "outputId": "48127e38-6462-4683-8c2f-b76e4d4500b7"
      },
      "execution_count": 1,
      "outputs": [
        {
          "output_type": "stream",
          "name": "stdout",
          "text": [
            "請輸入月份:15\n",
            "月份不再範圍內!\n"
          ]
        }
      ]
    },
    {
      "cell_type": "code",
      "source": [
        "money = int(input(\"請輸入今年收入淨額收入:\"))\n",
        "if (money >= 300000):\n",
        "   if (money >= 2000000):\n",
        "      print(\"付稅金額:\",money * 0.3, end = \"元\\n\")\n",
        "   elif (money >= 1000000):\n",
        "      print(\"付稅金額:\",money *0.21, end = \"元\\n\")\n",
        "   elif (money >= 600000):\n",
        "      print(\"付稅金額:\",money * 0.13, end = \"元\\n\")\n",
        "   else:\n",
        "     print(\"付稅金額:\",money * 0.16, end = \"元\\n\")"
      ],
      "metadata": {
        "colab": {
          "base_uri": "https://localhost:8080/"
        },
        "id": "jk7ldNeaxySp",
        "outputId": "a8ecf51c-24b1-4d4f-9a1e-b37c39542aaf"
      },
      "execution_count": null,
      "outputs": [
        {
          "output_type": "stream",
          "name": "stdout",
          "text": [
            "請輸入今年收入淨額收入:2000000\n",
            "付稅金額: 600000.0元\n"
          ]
        }
      ]
    },
    {
      "cell_type": "code",
      "source": [
        "lscore = float(input(\"請輸入成績:\"))\n",
        "if score >= 90:\n",
        "   print(\"A\")\n",
        "elif score >= 80 and score < 89:\n",
        "   print(\"B\")\n",
        "elif score >= 70 and score <79:\n",
        "   print(\"C\")\n",
        "elif score >= 60 and score <69:\n",
        "   print(\"D\")\n",
        "else:\n",
        "   print(\"E\")      "
      ],
      "metadata": {
        "colab": {
          "base_uri": "https://localhost:8080/"
        },
        "id": "wCPljfaXxybm",
        "outputId": "dc67df18-5a87-46b8-c270-60a6b4b9145e"
      },
      "execution_count": null,
      "outputs": [
        {
          "output_type": "stream",
          "name": "stdout",
          "text": [
            "請輸入成績:50\n",
            "E\n"
          ]
        }
      ]
    }
  ]
}