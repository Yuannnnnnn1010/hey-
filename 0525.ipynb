{
  "nbformat": 4,
  "nbformat_minor": 0,
  "metadata": {
    "colab": {
      "name": "0525.ipynb",
      "provenance": [],
      "authorship_tag": "ABX9TyPi7F2X8WtiXgmltyto8X46",
      "include_colab_link": true
    },
    "kernelspec": {
      "name": "python3",
      "display_name": "Python 3"
    },
    "language_info": {
      "name": "python"
    }
  },
  "cells": [
    {
      "cell_type": "markdown",
      "metadata": {
        "id": "view-in-github",
        "colab_type": "text"
      },
      "source": [
        "<a href=\"https://colab.research.google.com/github/Yuannnnnnn1010/hey-/blob/main/0525.ipynb\" target=\"_parent\"><img src=\"https://colab.research.google.com/assets/colab-badge.svg\" alt=\"Open In Colab\"/></a>"
      ]
    },
    {
      "cell_type": "code",
      "execution_count": null,
      "metadata": {
        "colab": {
          "base_uri": "https://localhost:8080/"
        },
        "id": "m5tsEDfqYUu3",
        "outputId": "60172616-9fa4-44e2-d8b0-f08906b82615"
      },
      "outputs": [
        {
          "output_type": "stream",
          "name": "stdout",
          "text": [
            "test\n"
          ]
        }
      ],
      "source": [
        "print(\"test\")"
      ]
    },
    {
      "cell_type": "code",
      "source": [
        "sum = 0\n",
        "test = int(input(\"請輸入一個正整數：\"))\n",
        "for n in range(1,test+1):\n",
        "   sum = sum+n\n",
        "print(\"1到\",test,\"的整數和為\",sum)"
      ],
      "metadata": {
        "id": "iLBNU1xoYXBu",
        "colab": {
          "base_uri": "https://localhost:8080/"
        },
        "outputId": "edcbc18f-ef49-42db-b473-8ed1dc5be090"
      },
      "execution_count": null,
      "outputs": [
        {
          "output_type": "stream",
          "name": "stdout",
          "text": [
            "請輸入一個正整數：50\n",
            "1到 50 的整數和為 1275\n"
          ]
        }
      ]
    },
    {
      "cell_type": "code",
      "source": [
        "sum = 0\n",
        "test = int(input(\"請輸入一個正整數：\"))\n",
        "for m in range(1, test+1 ):\n",
        "    sum = sum+m\n",
        "    print(\"1到\"+str(m)+\"的整數和為\",sum)"
      ],
      "metadata": {
        "id": "le5UFpSGYXLr",
        "colab": {
          "base_uri": "https://localhost:8080/"
        },
        "outputId": "5533c773-725a-4dab-c640-6dd395adf069"
      },
      "execution_count": null,
      "outputs": [
        {
          "output_type": "stream",
          "name": "stdout",
          "text": [
            "請輸入一個正整數：50\n",
            "1到1的整數和為 1\n",
            "1到2的整數和為 3\n",
            "1到3的整數和為 6\n",
            "1到4的整數和為 10\n",
            "1到5的整數和為 15\n",
            "1到6的整數和為 21\n",
            "1到7的整數和為 28\n",
            "1到8的整數和為 36\n",
            "1到9的整數和為 45\n",
            "1到10的整數和為 55\n",
            "1到11的整數和為 66\n",
            "1到12的整數和為 78\n",
            "1到13的整數和為 91\n",
            "1到14的整數和為 105\n",
            "1到15的整數和為 120\n",
            "1到16的整數和為 136\n",
            "1到17的整數和為 153\n",
            "1到18的整數和為 171\n",
            "1到19的整數和為 190\n",
            "1到20的整數和為 210\n",
            "1到21的整數和為 231\n",
            "1到22的整數和為 253\n",
            "1到23的整數和為 276\n",
            "1到24的整數和為 300\n",
            "1到25的整數和為 325\n",
            "1到26的整數和為 351\n",
            "1到27的整數和為 378\n",
            "1到28的整數和為 406\n",
            "1到29的整數和為 435\n",
            "1到30的整數和為 465\n",
            "1到31的整數和為 496\n",
            "1到32的整數和為 528\n",
            "1到33的整數和為 561\n",
            "1到34的整數和為 595\n",
            "1到35的整數和為 630\n",
            "1到36的整數和為 666\n",
            "1到37的整數和為 703\n",
            "1到38的整數和為 741\n",
            "1到39的整數和為 780\n",
            "1到40的整數和為 820\n",
            "1到41的整數和為 861\n",
            "1到42的整數和為 903\n",
            "1到43的整數和為 946\n",
            "1到44的整數和為 990\n",
            "1到45的整數和為 1035\n",
            "1到46的整數和為 1081\n",
            "1到47的整數和為 1128\n",
            "1到48的整數和為 1176\n",
            "1到49的整數和為 1225\n",
            "1到50的整數和為 1275\n"
          ]
        }
      ]
    },
    {
      "cell_type": "code",
      "source": [
        "for j in range(1,5):\n",
        "    print(j)\n",
        "    for i in range(1,3):\n",
        "        k = i*j\n",
        "        print(j,\"*\",i,\"=\",k)"
      ],
      "metadata": {
        "id": "viCVxmVRYXTP",
        "colab": {
          "base_uri": "https://localhost:8080/"
        },
        "outputId": "24342553-db51-4120-cdb3-0315f9cc899c"
      },
      "execution_count": null,
      "outputs": [
        {
          "output_type": "stream",
          "name": "stdout",
          "text": [
            "1\n",
            "1 * 1 = 1\n",
            "1 * 2 = 2\n",
            "2\n",
            "2 * 1 = 2\n",
            "2 * 2 = 4\n",
            "3\n",
            "3 * 1 = 3\n",
            "3 * 2 = 6\n",
            "4\n",
            "4 * 1 = 4\n",
            "4 * 2 = 8\n"
          ]
        }
      ]
    },
    {
      "cell_type": "code",
      "source": [
        "for j in range(1,5):\n",
        "    print(j)\n",
        "    for i in range(1,6):\n",
        "        k = i*j\n",
        "        print(j,\"*\",i,\"=\",k)"
      ],
      "metadata": {
        "colab": {
          "base_uri": "https://localhost:8080/"
        },
        "id": "Es1WCWFmf0y2",
        "outputId": "30c10954-c877-4c3b-be71-691a95058d09"
      },
      "execution_count": null,
      "outputs": [
        {
          "output_type": "stream",
          "name": "stdout",
          "text": [
            "1\n",
            "1 * 1 = 1\n",
            "1 * 2 = 2\n",
            "1 * 3 = 3\n",
            "1 * 4 = 4\n",
            "1 * 5 = 5\n",
            "2\n",
            "2 * 1 = 2\n",
            "2 * 2 = 4\n",
            "2 * 3 = 6\n",
            "2 * 4 = 8\n",
            "2 * 5 = 10\n",
            "3\n",
            "3 * 1 = 3\n",
            "3 * 2 = 6\n",
            "3 * 3 = 9\n",
            "3 * 4 = 12\n",
            "3 * 5 = 15\n",
            "4\n",
            "4 * 1 = 4\n",
            "4 * 2 = 8\n",
            "4 * 3 = 12\n",
            "4 * 4 = 16\n",
            "4 * 5 = 20\n"
          ]
        }
      ]
    },
    {
      "cell_type": "code",
      "source": [
        "for i in range(1, 5):\n",
        "    if(i==4):\n",
        "      break\n",
        "    print(i,end = \" \")"
      ],
      "metadata": {
        "id": "AjtDPua-YXbO",
        "colab": {
          "base_uri": "https://localhost:8080/"
        },
        "outputId": "c11c9f1d-a950-4e11-c313-7f4799b33c84"
      },
      "execution_count": null,
      "outputs": [
        {
          "output_type": "stream",
          "name": "stdout",
          "text": [
            "1 2 3 "
          ]
        }
      ]
    },
    {
      "cell_type": "code",
      "source": [
        "count = 0\n",
        "for string in 'hello!':\n",
        "    count+=1\n",
        "    if string =='o':\n",
        "        break\n",
        "    print(string)\n",
        "print(\"迴圈結束\")\n",
        "print(\"迴圈執行了 %d 次\" %count)"
      ],
      "metadata": {
        "colab": {
          "base_uri": "https://localhost:8080/"
        },
        "id": "qhixi7shdME9",
        "outputId": "d33df18b-e77b-494c-87ca-18f0e5edfa18"
      },
      "execution_count": null,
      "outputs": [
        {
          "output_type": "stream",
          "name": "stdout",
          "text": [
            "h\n",
            "e\n",
            "l\n",
            "l\n",
            "迴圈結束\n",
            "迴圈執行了 5 次\n"
          ]
        }
      ]
    },
    {
      "cell_type": "code",
      "source": [
        "count = 0 \n",
        "for string in '測試看看！':\n",
        "    count+=1\n",
        "    if string == '看':\n",
        "        break\n",
        "    print(string)\n",
        "print(\"迴圈結束\")\n",
        "print(\"迴圈執行了 %d 次\" %count)\n",
        "        \n"
      ],
      "metadata": {
        "colab": {
          "base_uri": "https://localhost:8080/"
        },
        "id": "QvvOyyx1dMkD",
        "outputId": "01e56de6-4af4-468a-bc9e-0a188345e608"
      },
      "execution_count": null,
      "outputs": [
        {
          "output_type": "stream",
          "name": "stdout",
          "text": [
            "測\n",
            "試\n",
            "迴圈結束\n",
            "迴圈執行了 3 次\n"
          ]
        }
      ]
    },
    {
      "cell_type": "code",
      "source": [
        "for j in range(2,9):\n",
        "    for i in range(1,10):\n",
        "        k = i*j\n",
        "        print(j,\"*\",i,\"=\",k)"
      ],
      "metadata": {
        "id": "bNcjA_-DYXng",
        "colab": {
          "base_uri": "https://localhost:8080/"
        },
        "outputId": "c857b804-f208-4ed9-b0a5-4b86551026dd"
      },
      "execution_count": null,
      "outputs": [
        {
          "output_type": "stream",
          "name": "stdout",
          "text": [
            "2 * 1 = 2\n",
            "2 * 2 = 4\n",
            "2 * 3 = 6\n",
            "2 * 4 = 8\n",
            "2 * 5 = 10\n",
            "2 * 6 = 12\n",
            "2 * 7 = 14\n",
            "2 * 8 = 16\n",
            "2 * 9 = 18\n",
            "3 * 1 = 3\n",
            "3 * 2 = 6\n",
            "3 * 3 = 9\n",
            "3 * 4 = 12\n",
            "3 * 5 = 15\n",
            "3 * 6 = 18\n",
            "3 * 7 = 21\n",
            "3 * 8 = 24\n",
            "3 * 9 = 27\n",
            "4 * 1 = 4\n",
            "4 * 2 = 8\n",
            "4 * 3 = 12\n",
            "4 * 4 = 16\n",
            "4 * 5 = 20\n",
            "4 * 6 = 24\n",
            "4 * 7 = 28\n",
            "4 * 8 = 32\n",
            "4 * 9 = 36\n",
            "5 * 1 = 5\n",
            "5 * 2 = 10\n",
            "5 * 3 = 15\n",
            "5 * 4 = 20\n",
            "5 * 5 = 25\n",
            "5 * 6 = 30\n",
            "5 * 7 = 35\n",
            "5 * 8 = 40\n",
            "5 * 9 = 45\n",
            "6 * 1 = 6\n",
            "6 * 2 = 12\n",
            "6 * 3 = 18\n",
            "6 * 4 = 24\n",
            "6 * 5 = 30\n",
            "6 * 6 = 36\n",
            "6 * 7 = 42\n",
            "6 * 8 = 48\n",
            "6 * 9 = 54\n",
            "7 * 1 = 7\n",
            "7 * 2 = 14\n",
            "7 * 3 = 21\n",
            "7 * 4 = 28\n",
            "7 * 5 = 35\n",
            "7 * 6 = 42\n",
            "7 * 7 = 49\n",
            "7 * 8 = 56\n",
            "7 * 9 = 63\n",
            "8 * 1 = 8\n",
            "8 * 2 = 16\n",
            "8 * 3 = 24\n",
            "8 * 4 = 32\n",
            "8 * 5 = 40\n",
            "8 * 6 = 48\n",
            "8 * 7 = 56\n",
            "8 * 8 = 64\n",
            "8 * 9 = 72\n"
          ]
        }
      ]
    },
    {
      "cell_type": "code",
      "source": [
        "m=int(input(\"請輸入正整數:\"))\n",
        "for i in range(1,13):\n",
        "  if(i==5):\n",
        "      continue\n",
        "  print(i,end=\" \")"
      ],
      "metadata": {
        "colab": {
          "base_uri": "https://localhost:8080/"
        },
        "id": "TCmcvukyto8N",
        "outputId": "309bf680-0045-4d6b-f813-73ab7df42f38"
      },
      "execution_count": 16,
      "outputs": [
        {
          "output_type": "stream",
          "name": "stdout",
          "text": [
            "請輸入正整數:12\n",
            "1 2 3 4 6 7 8 9 10 11 12 "
          ]
        }
      ]
    },
    {
      "cell_type": "code",
      "source": [
        "m=int(input(\"請輸入正整數：\"))\n",
        "for i in range(1,20):\n",
        "  if(i==5):\n",
        "      continue\n",
        "  print(i,end=\" \")"
      ],
      "metadata": {
        "colab": {
          "base_uri": "https://localhost:8080/"
        },
        "id": "WdpW5poktoxn",
        "outputId": "aac31758-5cdc-445b-c82f-433c9e1fbff2"
      },
      "execution_count": 17,
      "outputs": [
        {
          "output_type": "stream",
          "name": "stdout",
          "text": [
            "請輸入正整數：21\n",
            "1 2 3 4 6 7 8 9 10 11 12 13 14 15 16 17 18 19 "
          ]
        }
      ]
    },
    {
      "cell_type": "code",
      "source": [
        "num1=int(input(\"請輸入a的值：\"))\n",
        "num2=int(input(\"請輸入b的值：\"))\n",
        "m=max(num1,num2)\n",
        "n=min(num1,num2)\n",
        "r=m%n\n",
        "while r!=0:\n",
        "  m=n\n",
        "  n=r\n",
        "  r=m%n\n",
        "print(num1,\"和\",num2,\"的最小公倍數=\",n*6)"
      ],
      "metadata": {
        "id": "b2WY1JL-jubG",
        "colab": {
          "base_uri": "https://localhost:8080/"
        },
        "outputId": "23e52abb-acf0-4f37-e354-1eb080fb71ff"
      },
      "execution_count": 6,
      "outputs": [
        {
          "output_type": "stream",
          "name": "stdout",
          "text": [
            "請輸入a的值：4\n",
            "請輸入b的值：6\n",
            "4 和 6 的最小公倍數= 12\n"
          ]
        }
      ]
    },
    {
      "cell_type": "code",
      "source": [
        "num1=int(input(\"請輸入a的值：\"))\n",
        "num2=int(input(\"請輸入b的值 ：\"))\n",
        "m=max(num1,num2)\n",
        "n=min(num1,num2)\n",
        "r=m%n\n",
        "while r!=0:\n",
        "  m=n\n",
        "  n=r\n",
        "  r=m%n\n",
        "print(num1,\"和\",num2,\"的最小公倍數=\",n*15)"
      ],
      "metadata": {
        "colab": {
          "base_uri": "https://localhost:8080/"
        },
        "id": "Ne3ZN-bOqtSv",
        "outputId": "1f94c436-7a28-4002-eb9c-879fd7946f77"
      },
      "execution_count": 10,
      "outputs": [
        {
          "output_type": "stream",
          "name": "stdout",
          "text": [
            "請輸入a的值：9\n",
            "請輸入b的值 ：15\n",
            "9 和 15 的最小公倍數= 45\n"
          ]
        }
      ]
    },
    {
      "cell_type": "code",
      "source": [
        ""
      ],
      "metadata": {
        "id": "apbCgtVuqtob"
      },
      "execution_count": 15,
      "outputs": []
    }
  ]
}